{
  "nbformat": 4,
  "nbformat_minor": 0,
  "metadata": {
    "colab": {
      "provenance": []
    },
    "kernelspec": {
      "name": "python3",
      "display_name": "Python 3"
    },
    "language_info": {
      "name": "python"
    }
  },
  "cells": [
    {
      "cell_type": "code",
      "execution_count": null,
      "metadata": {
        "colab": {
          "base_uri": "https://localhost:8080/"
        },
        "id": "LBtInxjq-Q8F",
        "outputId": "204f3b64-a177-4193-f668-0e547ae00ef7"
      },
      "outputs": [
        {
          "output_type": "stream",
          "name": "stdout",
          "text": [
            "Enter the radius of the circle: 4\n",
            "The area of the circle with radius 4.0 is: 50.24\n"
          ]
        }
      ],
      "source": [
        " r = float(input(\"Enter the radius of the circle: \"))\n",
        " if r >= 0:\n",
        "  area = 3.14 * r**2\n",
        "  print(f\"The area of the circle with radius {r} is:\",area)\n",
        "else:\n",
        "    print(\"Radius cannot be negative.\")\n"
      ]
    },
    {
      "cell_type": "code",
      "source": [
        "name = input(\"Enter student name: \")\n",
        "rno = input(\"Enter student roll number(1-50): \")\n",
        "\n",
        "marks = float(input(\"Enter student marks out of 100: \"))\n",
        "\n",
        "# Display student details\n",
        "print(\"\\nStudent Details:\")\n",
        "print(f\"Name: {name}\")\n",
        "print(f\"Roll Number: {rno}\")\n",
        "print(f\"Marks: {marks}\")"
      ],
      "metadata": {
        "colab": {
          "base_uri": "https://localhost:8080/"
        },
        "id": "KYCSDmXb-xRB",
        "outputId": "c639a7bb-bc70-4ac1-ec4f-9bf9ef8a24f8"
      },
      "execution_count": null,
      "outputs": [
        {
          "output_type": "stream",
          "name": "stdout",
          "text": [
            "Enter student name: anu\n",
            "Enter student roll number(1-50): 34\n",
            "Enter student marks out of 100: 67\n",
            "\n",
            "Student Details:\n",
            "Name: anu\n",
            "Roll Number: 34\n",
            "Marks: 67.0\n"
          ]
        }
      ]
    },
    {
      "cell_type": "code",
      "source": [
        "s=input(\"enter list of numbers seperated by space\")\n",
        "s1=s.split()\n",
        "l=[]\n",
        "for x in s1:\n",
        "  l.append(x)\n",
        "\n",
        "max_n=l[0]\n",
        "for n in l[1:]:\n",
        "  if n>max_n:\n",
        "    max_n=n\n",
        "print(f\"The largest number in the list is: {max_n}\")"
      ],
      "metadata": {
        "colab": {
          "base_uri": "https://localhost:8080/"
        },
        "id": "pwkVrFNX_1U2",
        "outputId": "b1d20943-8d2e-4db6-b57a-5f6196f09517"
      },
      "execution_count": null,
      "outputs": [
        {
          "output_type": "stream",
          "name": "stdout",
          "text": [
            "enter list of numbers seperated by space1 2 5 4\n",
            "The largest number in the list is: 5\n"
          ]
        }
      ]
    },
    {
      "cell_type": "code",
      "source": [
        "sno=1\n",
        "eno=10\n",
        "pno=sno\n",
        "for i in range(sno+1,eno+1):\n",
        "  sum1=i+pno\n",
        "  print(f\"Sum of current no {i} and previous no {pno} is: \",sum1)\n",
        "  pno=i"
      ],
      "metadata": {
        "colab": {
          "base_uri": "https://localhost:8080/"
        },
        "id": "fwtvD-frCRyf",
        "outputId": "701733e3-a497-446c-b702-daae60a196ba"
      },
      "execution_count": null,
      "outputs": [
        {
          "output_type": "stream",
          "name": "stdout",
          "text": [
            "Sum of current no 2 and previous no 1 is:  3\n",
            "Sum of current no 3 and previous no 2 is:  5\n",
            "Sum of current no 4 and previous no 3 is:  7\n",
            "Sum of current no 5 and previous no 4 is:  9\n",
            "Sum of current no 6 and previous no 5 is:  11\n",
            "Sum of current no 7 and previous no 6 is:  13\n",
            "Sum of current no 8 and previous no 7 is:  15\n",
            "Sum of current no 9 and previous no 8 is:  17\n",
            "Sum of current no 10 and previous no 9 is:  19\n"
          ]
        }
      ]
    },
    {
      "cell_type": "code",
      "source": [
        "s=input(\"enter list of numbers seperated by space\")\n",
        "s1=s.split()\n",
        "l=[]\n",
        "for x in s1:\n",
        "  l.append(int(x))\n",
        "print(\"the numbers divisible by 5 are:\")\n",
        "for i in l:\n",
        "  if i%5==0:\n",
        "    print(i)"
      ],
      "metadata": {
        "colab": {
          "base_uri": "https://localhost:8080/"
        },
        "id": "PK7NHxiBDMFz",
        "outputId": "ab82c07a-7601-4db1-e515-ec2dbb400dfe"
      },
      "execution_count": null,
      "outputs": [
        {
          "output_type": "stream",
          "name": "stdout",
          "text": [
            "enter list of numbers seperated by space1 3 5 7 8 90\n",
            "the numbers divisible by 5 are:\n",
            "5\n",
            "90\n"
          ]
        }
      ]
    },
    {
      "cell_type": "code",
      "source": [
        "number = int(input(\"Enter a number: \"))\n",
        "if number < 2:\n",
        "        print(f\"{number} is not a prime number.\")\n",
        "else:\n",
        "      is_prime = True\n",
        "      for i in range(2, int(number**0.5) + 1):\n",
        "            if number % i == 0:\n",
        "                is_prime = False\n",
        "                break\n",
        "\n",
        "      if is_prime:\n",
        "            print(f\"{number} is a prime number.\")\n",
        "      else:\n",
        "            print(f\"{number} is not a prime number.\")\n",
        "\n"
      ],
      "metadata": {
        "colab": {
          "base_uri": "https://localhost:8080/"
        },
        "id": "r2abQgtVD3fn",
        "outputId": "d93a509d-59e9-4479-edff-8c51fb811396"
      },
      "execution_count": null,
      "outputs": [
        {
          "output_type": "stream",
          "name": "stdout",
          "text": [
            "Enter a number: 7\n",
            "7 is a prime number.\n"
          ]
        }
      ]
    },
    {
      "cell_type": "code",
      "source": [
        "l = input(\"Enter a list of elements separated by space: \").split()\n",
        "l\n",
        "olist=[]\n",
        "for x in l:\n",
        "  olist.append(int(x))\n",
        "rlist = []\n",
        "for i in range(len(olist) - 1, -1, -1):\n",
        "    rlist.append(olist[i])\n",
        "print(f\"Original List: {olist}\")\n",
        "print(f\"Reversed List: {rlist}\")\n",
        "\n"
      ],
      "metadata": {
        "colab": {
          "base_uri": "https://localhost:8080/"
        },
        "id": "wvwA_ZWDEcZd",
        "outputId": "6cfb6c20-004b-4668-b1bf-6c2dff65129d"
      },
      "execution_count": null,
      "outputs": [
        {
          "output_type": "stream",
          "name": "stdout",
          "text": [
            "Enter a list of elements separated by space: 1  3 7 2\n",
            "Original List: [1, 3, 7, 2]\n",
            "Reversed List: [2, 7, 3, 1]\n"
          ]
        }
      ]
    },
    {
      "cell_type": "code",
      "source": [
        "nrows = 4\n",
        "\n",
        "for i in range(1, nrows + 1):\n",
        "    print('*' * i)\n"
      ],
      "metadata": {
        "colab": {
          "base_uri": "https://localhost:8080/"
        },
        "id": "On-Rh4y4GCxV",
        "outputId": "e95ca482-d32c-48e4-c8c2-3c731d6010a2"
      },
      "execution_count": null,
      "outputs": [
        {
          "output_type": "stream",
          "name": "stdout",
          "text": [
            "*\n",
            "**\n",
            "***\n",
            "****\n"
          ]
        }
      ]
    },
    {
      "cell_type": "code",
      "source": [],
      "metadata": {
        "id": "HOh0QUC3VsMz"
      },
      "execution_count": null,
      "outputs": []
    },
    {
      "cell_type": "code",
      "source": [
        "num1 = float(input(\"Enter the first number: \"))\n",
        "num2 = float(input(\"Enter the second number: \"))\n",
        "num3 = float(input(\"Enter the third number: \"))\n",
        "\n",
        "    # Find the maximum among the three numbers\n",
        "    max_num = max(num1, num2, num3)\n",
        "\n",
        "    # Display the result\n",
        "    print(f\"The maximum of {num1}, {num2}, and {num3} is: {max_number}\")\n",
        "except ValueError:\n",
        "    print(\"Invalid input. Please enter valid numbers.\")\n"
      ],
      "metadata": {
        "id": "Dp-V-wHvGYsc"
      },
      "execution_count": null,
      "outputs": []
    },
    {
      "cell_type": "code",
      "source": [
        "nrows = 5\n",
        "\n",
        "for i in range(1, nrows + 1):\n",
        "    print('*' * i)\n",
        "for i in range(nrows-1,0,-1):\n",
        "  print('*'*i)"
      ],
      "metadata": {
        "colab": {
          "base_uri": "https://localhost:8080/"
        },
        "id": "iZnszW_9VtYM",
        "outputId": "76fb2c6c-2e69-4e87-866f-92c12e22b20c"
      },
      "execution_count": 5,
      "outputs": [
        {
          "output_type": "stream",
          "name": "stdout",
          "text": [
            "*\n",
            "**\n",
            "***\n",
            "****\n",
            "*****\n",
            "****\n",
            "***\n",
            "**\n",
            "*\n"
          ]
        }
      ]
    },
    {
      "cell_type": "code",
      "source": [
        "num_rows = 5\n",
        "\n",
        "# Nested loop to construct the pattern\n",
        "for i in range(1, num_rows + 1):\n",
        "    for j in range(i):\n",
        "        print('*', end=' ')\n",
        "    print()\n",
        "for i in range(num_rows-1,0,-1):\n",
        "    for j in range(i):\n",
        "        print('*', end=' ')\n",
        "    print()"
      ],
      "metadata": {
        "colab": {
          "base_uri": "https://localhost:8080/"
        },
        "id": "MigKI7KvWdVX",
        "outputId": "e33b6d05-cd76-41d1-8a15-88eaa8bf221e"
      },
      "execution_count": 10,
      "outputs": [
        {
          "output_type": "stream",
          "name": "stdout",
          "text": [
            "* \n",
            "* * \n",
            "* * * \n",
            "* * * * \n",
            "* * * * * \n",
            "* * * * \n",
            "* * * \n",
            "* * \n",
            "* \n"
          ]
        }
      ]
    }
  ]
}