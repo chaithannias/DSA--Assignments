{
  "nbformat": 4,
  "nbformat_minor": 0,
  "metadata": {
    "colab": {
      "provenance": []
    },
    "kernelspec": {
      "name": "python3",
      "display_name": "Python 3"
    },
    "language_info": {
      "name": "python"
    }
  },
  "cells": [
    {
      "cell_type": "code",
      "execution_count": 3,
      "metadata": {
        "colab": {
          "base_uri": "https://localhost:8080/"
        },
        "id": "Fa6UkpzPXWtu",
        "outputId": "df6cd05b-c951-4182-d593-46dad544d42a"
      },
      "outputs": [
        {
          "output_type": "stream",
          "name": "stdout",
          "text": [
            "Enter a string value: shibin\n",
            "Character counts:\n",
            "s=1, h=1, i=2, b=1, n=1, "
          ]
        }
      ],
      "source": [
        "input_string = input(\"Enter a string value: \")\n",
        "char_count = {}\n",
        "for c in input_string:\n",
        "  if c in char_count:\n",
        "    char_count[c] += 1\n",
        "  else:\n",
        "    char_count[c] = 1\n",
        "print(\"Character counts:\")\n",
        "for c, count in char_count.items():\n",
        "    print(f\"{c}={count}\", end=', ')"
      ]
    },
    {
      "cell_type": "code",
      "source": [
        "num1 = int(input(\"Enter the first number: \"))\n",
        "num2 = int(input(\"Enter the second number: \"))\n",
        "num3 = int(input(\"Enter the third number: \"))\n",
        "max_number = max(num1, num2, num3)\n",
        "print(max_number)"
      ],
      "metadata": {
        "colab": {
          "base_uri": "https://localhost:8080/"
        },
        "id": "ojl8C6hJZZgr",
        "outputId": "4abafba1-63c7-4bf2-a5a8-182e92867100"
      },
      "execution_count": 8,
      "outputs": [
        {
          "output_type": "stream",
          "name": "stdout",
          "text": [
            "Enter the first number: 12\n",
            "Enter the second number: 23\n",
            "Enter the third number: 31\n",
            "31\n"
          ]
        }
      ]
    },
    {
      "cell_type": "code",
      "source": [
        "num1 = int(input(\"Enter the first number: \"))\n",
        "num2 = int(input(\"Enter the second number: \"))\n",
        "num3 = int(input(\"Enter the third number: \"))\n",
        "if num1 >= num2 and num1 >= num3:\n",
        "        max_number = num1\n",
        "elif num2 >= num1 and num2 >= num3:\n",
        "        max_number = num2\n",
        "else:\n",
        "        max_number = num3\n",
        "print(max_number)"
      ],
      "metadata": {
        "colab": {
          "base_uri": "https://localhost:8080/"
        },
        "id": "WORFbxzOahZg",
        "outputId": "f0e112bb-d9d7-4331-b8d2-ddd863a2c4a2"
      },
      "execution_count": 13,
      "outputs": [
        {
          "output_type": "stream",
          "name": "stdout",
          "text": [
            "Enter the first number: 12\n",
            "Enter the second number: 31\n",
            "Enter the third number: 23\n",
            "31\n"
          ]
        }
      ]
    },
    {
      "cell_type": "code",
      "source": [
        "def exponent(base,exp):\n",
        "  r=base**exp\n",
        "  return r\n",
        "b=int(input(\"enter the base:\"))\n",
        "exp=int(input(\"enter the exponent :\"))\n",
        "result=exponent(b,exp)\n",
        "print(result)\n"
      ],
      "metadata": {
        "colab": {
          "base_uri": "https://localhost:8080/"
        },
        "id": "e7OshNYsay_y",
        "outputId": "d221dae4-a8e8-433b-9832-b28d56159b0a"
      },
      "execution_count": 14,
      "outputs": [
        {
          "output_type": "stream",
          "name": "stdout",
          "text": [
            "enter the base:12\n",
            "enter the exponent :2\n",
            "144\n"
          ]
        }
      ]
    },
    {
      "cell_type": "code",
      "source": [
        "def total_cubes(n):\n",
        "  sum=0\n",
        "  for i in range(1,n):\n",
        "    sum=sum+i**3\n",
        "  return sum\n",
        "num=int(input(\"enter a number:-\"))\n",
        "total=total_cubes(num)\n",
        "print(total)\n"
      ],
      "metadata": {
        "colab": {
          "base_uri": "https://localhost:8080/"
        },
        "id": "tqdtXgDxbsod",
        "outputId": "09902d7a-a25f-4852-cc73-cb532242344d"
      },
      "execution_count": 15,
      "outputs": [
        {
          "output_type": "stream",
          "name": "stdout",
          "text": [
            "enter a number:-4\n",
            "36\n"
          ]
        }
      ]
    },
    {
      "cell_type": "code",
      "source": [
        "for i in range(1,11):\n",
        "  if (i%2==0 and i%5==0):\n",
        "    print(\"FizzBuzz\")\n",
        "  elif (i%2==0 ):\n",
        "    print(\"fizz\")\n",
        "  elif(i%5==0):\n",
        "    print(\"buzz\")\n",
        "  else:\n",
        "    print(i)\n"
      ],
      "metadata": {
        "colab": {
          "base_uri": "https://localhost:8080/"
        },
        "id": "SSZ-LZPzcwkG",
        "outputId": "18cf9079-5c2c-4110-c626-15ebda7ac7c1"
      },
      "execution_count": 17,
      "outputs": [
        {
          "output_type": "stream",
          "name": "stdout",
          "text": [
            "1\n",
            "fizz\n",
            "3\n",
            "fizz\n",
            "buzz\n",
            "fizz\n",
            "7\n",
            "fizz\n",
            "9\n",
            "FizzBuzz\n"
          ]
        }
      ]
    },
    {
      "cell_type": "code",
      "source": [
        "l=[2,3,4,5,6,4,3,4]\n",
        "max_count=0\n",
        "for i in l:\n",
        "  count = l.count(i)\n",
        "  if count > max_count:\n",
        "     most_frequent = i\n",
        "     max_count = count\n",
        "print(l)\n",
        "print(most_frequent)\n"
      ],
      "metadata": {
        "colab": {
          "base_uri": "https://localhost:8080/"
        },
        "id": "nxNTBWOidw05",
        "outputId": "b82105cd-4164-4d19-e361-2d125a4150b9"
      },
      "execution_count": 27,
      "outputs": [
        {
          "output_type": "stream",
          "name": "stdout",
          "text": [
            "[2, 3, 4, 5, 6, 4, 3, 4]\n",
            "4\n"
          ]
        }
      ]
    },
    {
      "cell_type": "code",
      "source": [
        "l= []\n",
        "x=input(\"Enter a list of numbers separated by space: \")\n",
        "x1=x.split(',')\n",
        "for i in x1:\n",
        "  l.append(int(i))\n",
        "print(l)\n",
        "max_count=0\n",
        "for i in l:\n",
        "  count = l.count(i)\n",
        "  if count > max_count:\n",
        "     most_frequent = i\n",
        "     max_count = count\n",
        "print(most_frequent)\n",
        "\n"
      ],
      "metadata": {
        "colab": {
          "base_uri": "https://localhost:8080/"
        },
        "id": "JcuT5HzXgNC0",
        "outputId": "b673e167-c84a-4e8a-affc-fd889bd8e338"
      },
      "execution_count": 31,
      "outputs": [
        {
          "output_type": "stream",
          "name": "stdout",
          "text": [
            "Enter a list of numbers separated by space: 1,2,5,6,2,3,5,5\n",
            "[1, 2, 5, 6, 2, 3, 5, 5]\n",
            "[1, 2, 5, 6, 2, 3, 5, 5]\n",
            "5\n"
          ]
        }
      ]
    },
    {
      "cell_type": "code",
      "source": [
        "l= []\n",
        "x=input(\"Enter a list of numbers separated by space: \")\n",
        "x1=x.split(',')\n",
        "for i in x1:\n",
        "  l.append(int(i))\n",
        "print(l)\n",
        "sum=0\n",
        "for i in l:\n",
        "  sum=sum+i*i\n",
        "print(sum)\n"
      ],
      "metadata": {
        "colab": {
          "base_uri": "https://localhost:8080/"
        },
        "id": "sDwptjS2hGXC",
        "outputId": "353bdafe-85fb-4228-d23d-b56daf7554f8"
      },
      "execution_count": 34,
      "outputs": [
        {
          "output_type": "stream",
          "name": "stdout",
          "text": [
            "Enter a list of numbers separated by space: 1,2,3,2\n",
            "[1, 2, 3, 2]\n",
            "18\n"
          ]
        }
      ]
    },
    {
      "cell_type": "code",
      "source": [
        "l= []\n",
        "x=input(\"Enter the start and end numbers separated by space: \")\n",
        "x1=x.split(',')\n",
        "for i in x1:\n",
        "  l.append(int(i))\n",
        "print(l)\n",
        "max_count=0\n",
        "for i in range(l[0],l[1]+1):\n",
        "  if (i%2==0):\n",
        "    print(f\"{i} :even\")\n",
        "  else:\n",
        "    print(f\"{i} :odd\")"
      ],
      "metadata": {
        "colab": {
          "base_uri": "https://localhost:8080/"
        },
        "id": "i3Nuc2rViAvE",
        "outputId": "81807223-a23b-4df7-856c-534a85bb28ed"
      },
      "execution_count": 42,
      "outputs": [
        {
          "output_type": "stream",
          "name": "stdout",
          "text": [
            "Enter the start and end numbers separated by space: 1,15\n",
            "[1, 15]\n",
            "1 :odd\n",
            "2 :even\n",
            "3 :odd\n",
            "4 :even\n",
            "5 :odd\n",
            "6 :even\n",
            "7 :odd\n",
            "8 :even\n",
            "9 :odd\n",
            "10 :even\n",
            "11 :odd\n",
            "12 :even\n",
            "13 :odd\n",
            "14 :even\n",
            "15 :odd\n"
          ]
        }
      ]
    },
    {
      "cell_type": "code",
      "source": [
        "def fahrenheit_to_celsius(fahrenheit):\n",
        "    celsius = (fahrenheit - 32) * 5 / 9\n",
        "    return celsius\n",
        "\n",
        "def celsius_to_fahrenheit(celsius):\n",
        "    fahrenheit = (celsius * 9 / 5) + 32\n",
        "    return fahrenheit\n",
        "temp = float(input(\"Enter the temperature: \"))\n",
        "conversion_type = input(\"Enter 'F' for Celsius to Fahrenheit, 'C' for Fahrenheit to Celsius: \").upper()\n",
        "if conversion_type == 'F':\n",
        "  result = celsius_to_fahrenheit(temp)\n",
        "  print(f\"Temperature in Fahrenheit: {result}\")\n",
        "elif conversion_type == \"C\":\n",
        "  result = fahrenheit_to_celsius(temp)\n",
        "  print(f\"Temperature in Celsius: {result}\")\n",
        "else:\n",
        "  print(\"Invalid conversion type. Please enter 'C' or 'F'.\")"
      ],
      "metadata": {
        "colab": {
          "base_uri": "https://localhost:8080/"
        },
        "id": "5_7n8TArj6sk",
        "outputId": "5ed05d55-47f0-4dc8-fb2e-6cea2bcaeeae"
      },
      "execution_count": 45,
      "outputs": [
        {
          "output_type": "stream",
          "name": "stdout",
          "text": [
            "Enter the temperature: 41\n",
            "Enter 'F' for Celsius to Fahrenheit, 'C' for Fahrenheit to Celsius: f\n",
            "Temperature in Fahrenheit: 105.8\n"
          ]
        }
      ]
    },
    {
      "cell_type": "code",
      "source": [
        "def factorial(n):\n",
        "    if n == 0 or n == 1:\n",
        "        return 1\n",
        "    else:\n",
        "        result = 1\n",
        "        for i in range(2, n + 1):\n",
        "            result *= i\n",
        "        return result\n",
        "number = int(input(\"Enter a nonnegative integer: \"))\n",
        "if number<0:\n",
        "   print(\"Invalid input. Please enter a valid nonnegative integer.\")\n",
        "else:\n",
        "  result = factorial(number)\n",
        "  print(f\"The factorial of {number} is: {result}\")\n"
      ],
      "metadata": {
        "colab": {
          "base_uri": "https://localhost:8080/"
        },
        "id": "yWMcUltAlMqX",
        "outputId": "a5fb390e-ef1f-4a62-9f9d-1e80fef57467"
      },
      "execution_count": 49,
      "outputs": [
        {
          "output_type": "stream",
          "name": "stdout",
          "text": [
            "Enter a nonnegative integer: -9\n",
            "Invalid input. Please enter a valid nonnegative integer.\n"
          ]
        }
      ]
    }
  ]
}